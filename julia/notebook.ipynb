{
 "cells": [
  {
   "cell_type": "code",
   "execution_count": 1,
   "metadata": {},
   "outputs": [
    {
     "name": "stdout",
     "output_type": "stream",
     "text": [
      "Hello_Julia\n"
     ]
    },
    {
     "name": "stderr",
     "output_type": "stream",
     "text": [
      "\u001b[32m\u001b[1m   Resolving\u001b[22m\u001b[39m package versions...\n",
      "\u001b[32m\u001b[1m  No Changes\u001b[22m\u001b[39m to `~/.julia/environments/v1.11/Project.toml`\n",
      "\u001b[32m\u001b[1m  No Changes\u001b[22m\u001b[39m to `~/.julia/environments/v1.11/Manifest.toml`\n"
     ]
    },
    {
     "data": {
      "text/plain": [
       ":ω"
      ]
     },
     "metadata": {},
     "output_type": "display_data"
    }
   ],
   "source": [
    "println(\"Hello_Julia\")\n",
    "include(\"setup.jl\")"
   ]
  },
  {
   "cell_type": "markdown",
   "metadata": {},
   "source": [
    "Hello Check above Latex"
   ]
  },
  {
   "cell_type": "code",
   "execution_count": 2,
   "metadata": {},
   "outputs": [
    {
     "data": {
      "text/latex": [
       "\\begin{equation}\n",
       "\\frac{8 \\cdot U}{mu_{0}^{2} \\cdot \\left( R_{a} - R_{k} \\right)^{2} \\cdot n_{0}^{2} \\cdot I}\n",
       "\\end{equation}\n"
      ],
      "text/plain": [
       "L\"\\begin{equation}\n",
       "\\frac{8 \\cdot U}{mu_{0}^{2} \\cdot \\left( R_{a} - R_{k} \\right)^{2} \\cdot n_{0}^{2} \\cdot I}\n",
       "\\end{equation}\n",
       "\""
      ]
     },
     "metadata": {},
     "output_type": "display_data"
    }
   ],
   "source": [
    "em = :( (8U) / (mu_0^2 * (R_a - R_k)^2 * n_0^2 * I) )\n",
    "str = latexify(em, env=:eq)"
   ]
  },
  {
   "cell_type": "code",
   "execution_count": 3,
   "metadata": {},
   "outputs": [
    {
     "data": {
      "text/latex": [
       "\\begin{equation}\n",
       "\\frac{8 \\cdot 10}{(4 \\pi \\cdot 10^{-7})^{2} \\cdot \\left( 0.015 - 0.007 \\right)^{2} \\cdot n_{0}^{2} \\cdot I}\n",
       "\\end{equation}\n"
      ],
      "text/plain": [
       "L\"\\begin{equation}\n",
       "\\frac{8 \\cdot 10}{(4 \\pi \\cdot 10^{-7})^{2} \\cdot \\left( 0.015 - 0.007 \\right)^{2} \\cdot n_{0}^{2} \\cdot I}\n",
       "\\end{equation}\n",
       "\""
      ]
     },
     "metadata": {},
     "output_type": "display_data"
    }
   ],
   "source": [
    "include(\"substitute.jl\")\n",
    "substitute(str, \"U\" => 10, \"R_a\" => 15u\"mm\", \"R_k\" => 7u\"mm\", :mu_0 => LaTeXString(\"(4 \\\\pi \\\\cdot 10^{-7})\"))"
   ]
  },
  {
   "cell_type": "code",
   "execution_count": 4,
   "metadata": {},
   "outputs": [
    {
     "data": {
      "text/latex": [
       "$2.973 \\cdot 10^{5}\\;\\mathrm{mm}^{-2}$"
      ],
      "text/plain": [
       "L\"$2.973 \\cdot 10^{5}\\;\\mathrm{mm}^{-2}$\""
      ]
     },
     "metadata": {},
     "output_type": "display_data"
    }
   ],
   "source": [
    "U = 11\n",
    "I = 0.904\n",
    "R_a = 15u\"mm\"\n",
    "R_k = 7u\"mm\"\n",
    "mu_0 = 4pi *1e-7\n",
    "n_0 = 1800\n",
    "latexify(eval(em))"
   ]
  },
  {
   "cell_type": "code",
   "execution_count": 5,
   "metadata": {},
   "outputs": [
    {
     "name": "stdout",
     "output_type": "stream",
     "text": [
      "$\\alpha^{2}$\n"
     ]
    }
   ],
   "source": [
    "println(latexify(:(alpha^2)))"
   ]
  },
  {
   "cell_type": "code",
   "execution_count": 6,
   "metadata": {},
   "outputs": [
    {
     "name": "stdout",
     "output_type": "stream",
     "text": [
      "sin(90°) = 1.0\n",
      "sin(90) = 0.8939966636005579\n",
      "sin(90 * u\"rad\") = 0.8939966636005579\n",
      "cos(0°) = 1.0\n",
      "cos(0) = 1.0\n"
     ]
    },
    {
     "data": {
      "text/plain": [
       "1.0"
      ]
     },
     "metadata": {},
     "output_type": "display_data"
    }
   ],
   "source": [
    "@show sin(90°)\n",
    "@show sin(90)\n",
    "@show sin(90u\"rad\")\n",
    "@show cos(0°)\n",
    "@show cos(0)"
   ]
  },
  {
   "cell_type": "code",
   "execution_count": 7,
   "metadata": {},
   "outputs": [
    {
     "data": {
      "text/latex": [
       "$0.005$"
      ],
      "text/plain": [
       "L\"$0.005$\""
      ]
     },
     "metadata": {},
     "output_type": "display_data"
    }
   ],
   "source": [
    "latexify(5u\"mm\" |> u\"m\" |> ustrip |> float)"
   ]
  },
  {
   "cell_type": "code",
   "execution_count": 8,
   "metadata": {},
   "outputs": [
    {
     "data": {
      "text/plain": [
       "0.001"
      ]
     },
     "metadata": {},
     "output_type": "display_data"
    }
   ],
   "source": [
    "upreferred(1u\"mm\") |> ustrip |> float"
   ]
  },
  {
   "cell_type": "code",
   "execution_count": 9,
   "metadata": {},
   "outputs": [
    {
     "data": {
      "text/plain": [
       "true"
      ]
     },
     "metadata": {},
     "output_type": "display_data"
    }
   ],
   "source": [
    "isa(7u\"mm\", Unitful.AbstractQuantity)"
   ]
  },
  {
   "cell_type": "code",
   "execution_count": null,
   "metadata": {},
   "outputs": [
    {
     "ename": "TypeError",
     "evalue": "TypeError: non-boolean (BitVector) used in boolean context",
     "output_type": "error",
     "traceback": [
      "TypeError: non-boolean (BitVector) used in boolean context\n",
      "\n",
      "Stacktrace:\n",
      " [1] top-level scope\n",
      "   @ ~/Документы/ГУАП/общее/luatex_R_template/julia/jl_notebook_cell_df34fa98e69747e1a8f8a730347b8e2f_X13sZmlsZQ==.jl:3"
     ]
    }
   ],
   "source": []
  }
 ],
 "metadata": {
  "kernelspec": {
   "display_name": "Julia 1.11.4",
   "language": "julia",
   "name": "julia-1.11"
  },
  "language_info": {
   "file_extension": ".jl",
   "mimetype": "application/julia",
   "name": "julia",
   "version": "1.11.4"
  }
 },
 "nbformat": 4,
 "nbformat_minor": 2
}
